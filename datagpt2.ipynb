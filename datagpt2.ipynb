{
 "cells": [
  {
   "cell_type": "code",
   "execution_count": null,
   "metadata": {},
   "outputs": [],
   "source": [
    "import torch\n",
    "import regex as re\n",
    "from transformers import GPT2Tokenizer, GPT2LMHeadModel\n",
    "import pandas as pd\n",
    "import json\n",
    "\n",
    "\n",
    "# Load pre-trained GPT-2 model and tokenizer\n",
    "model_name = \"gpt2\"\n",
    "tokenizer = GPT2Tokenizer.from_pretrained(model_name)\n",
    "model = GPT2LMHeadModel.from_pretrained(model_name)\n",
    "\n",
    "# Define a function to generate text\n",
    "def generate_text(prompt, num_samples, max_length, temperature=0.7):\n",
    "    model.eval()\n",
    "    generated_texts = []\n",
    "    for _ in range(num_samples):\n",
    "        input_ids = tokenizer.encode(prompt, return_tensors='pt')\n",
    "        outputs = model.generate(input_ids, max_length=max_length, num_return_sequences=1, pad_token_id=tokenizer.eos_token_id, do_sample=True, temperature=temperature)\n",
    "        generated_text = tokenizer.decode(outputs[0], skip_special_tokens=True)\n",
    "        generated_texts.append(generated_text[len(prompt):])  # Skip prompt part in the output\n",
    "    return generated_texts\n",
    "\n",
    "# Set parameters\n",
    "num_samples = 100  # Number of documents to generate\n",
    "max_length = 20   # Max length of each document\n",
    "prompt = \"Legal document concerning\"  # Example of a prompt\n",
    "\n",
    "# Generate text samples\n",
    "texts = generate_text(prompt, num_samples, max_length)\n",
    "\n",
    "# Save the data to a JSON file\n",
    "with open('gpt2_generated_dataset.json', 'w') as json_file:\n",
    "    json.dump(texts, json_file, indent=4)\n",
    "\n",
    "# Save the data to an Excel file\n",
    "df = pd.DataFrame(texts, columns=['generated_text'])\n",
    "df.to_excel('gpt2_generated_dataset.xlsx', index=False)\n"
   ]
  }
 ],
 "metadata": {
  "kernelspec": {
   "display_name": "base",
   "language": "python",
   "name": "python3"
  },
  "language_info": {
   "codemirror_mode": {
    "name": "ipython",
    "version": 3
   },
   "file_extension": ".py",
   "mimetype": "text/x-python",
   "name": "python",
   "nbconvert_exporter": "python",
   "pygments_lexer": "ipython3",
   "version": "3.10.14"
  }
 },
 "nbformat": 4,
 "nbformat_minor": 2
}
